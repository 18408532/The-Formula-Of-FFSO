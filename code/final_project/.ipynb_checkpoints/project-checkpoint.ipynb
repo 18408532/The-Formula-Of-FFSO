{
 "cells": [
  {
   "cell_type": "code",
   "execution_count": 27,
   "metadata": {},
   "outputs": [
    {
     "ename": "ImportError",
     "evalue": "cannot import name 'webdrivers' from 'selenium' (C:\\Users\\Mr_Doggy\\Anaconda3\\lib\\site-packages\\selenium\\__init__.py)",
     "output_type": "error",
     "traceback": [
      "\u001b[1;31m---------------------------------------------------------------------------\u001b[0m",
      "\u001b[1;31mImportError\u001b[0m                               Traceback (most recent call last)",
      "\u001b[1;32m<ipython-input-27-00467d8d4f9e>\u001b[0m in \u001b[0;36m<module>\u001b[1;34m()\u001b[0m\n\u001b[0;32m      4\u001b[0m \u001b[1;32mimport\u001b[0m \u001b[0mpandas\u001b[0m \u001b[1;32mas\u001b[0m \u001b[0mpd\u001b[0m\u001b[1;33m\u001b[0m\u001b[0m\n\u001b[0;32m      5\u001b[0m \u001b[1;32mfrom\u001b[0m \u001b[0mbs4\u001b[0m \u001b[1;32mimport\u001b[0m \u001b[0mBeautifulSoup\u001b[0m\u001b[1;33m\u001b[0m\u001b[0m\n\u001b[1;32m----> 6\u001b[1;33m \u001b[1;32mfrom\u001b[0m \u001b[0mselenium\u001b[0m \u001b[1;32mimport\u001b[0m \u001b[0mwebdrivers\u001b[0m\u001b[1;33m\u001b[0m\u001b[0m\n\u001b[0m",
      "\u001b[1;31mImportError\u001b[0m: cannot import name 'webdrivers' from 'selenium' (C:\\Users\\Mr_Doggy\\Anaconda3\\lib\\site-packages\\selenium\\__init__.py)"
     ]
    }
   ],
   "source": [
    "import time\n",
    "import random\n",
    "import requests\n",
    "import pandas as pd\n",
    "from bs4 import BeautifulSoup\n",
    "from selenium import webdrivers"
   ]
  },
  {
   "cell_type": "code",
   "execution_count": 14,
   "metadata": {},
   "outputs": [],
   "source": [
    "url = 'https://movie.douban.com/tag/#/?sort=S&range=2,10&tags=%E7%94%B5%E8%A7%86%E5%89%A7&start=0&countries=%E4%B8%AD%E5%9B%BD%E5%A4%A7%E9%99%86'\n",
    "ips = ['122.152.196.126','114.215.174.227','119.185.30.75']\n",
    "User_Agents = [\n",
    "    'Mozilla/5.0 (Macintosh; Intel Mac OS X 10_13_6) AppleWebKit/537.36 (KHTML, like Gecko) Chrome/70.0.3538.102 Safari/537.36'\n",
    "    'Mozilla/5.0 (Macintosh; U; Intel Mac OS X 10_6_8; en-us) AppleWebKit/534.50 (KHTML, like Gecko) Version/5.1 Safari/534.50',\n",
    "    'Mozilla/5.0 (Windows; U; Windows NT 6.1; en-us) AppleWebKit/534.50 (KHTML, like Gecko) Version/5.1 Safari/534.50',\n",
    "    'Mozilla/5.0 (compatible; MSIE 9.0; Windows NT 6.1; Trident/5.0',\n",
    "    'Mozilla/5.0 (Macintosh; Intel Mac OS X 10.6; rv:2.0.1) Gecko/20100101 Firefox/4.0.1',\n",
    "    'Opera/9.80 (Macintosh; Intel Mac OS X 10.6.8; U; en) Presto/2.8.131 Version/11.11',\n",
    "    'Opera/9.80 (Windows NT 6.1; U; en) Presto/2.8.131 Version/11.11',\n",
    "    'Mozilla/5.0 (Macintosh; Intel Mac OS X 10_7_0) AppleWebKit/535.11 (KHTML, like Gecko) Chrome/17.0.963.56 Safari/535.11',\n",
    "]\n",
    "headers = {\n",
    "    'Accept': 'text/html,application/xhtml+xml,application/xml;q=0.9,image/webp,image/apng,*/*;q=0.8', \n",
    "    'Accept-Encoding': 'gzip, deflate, br', \n",
    "    'Accept-Language': 'zh-CN,zh;q=0.9', \n",
    "    'Connection': 'keep-alive', \n",
    "    'Cookie': 'll=\"108090\"; bid=RCQuJh5W6uA; _vwo_uuid_v2=DE0655BABE1957865C0B256950AD3853D|0a7c48214e00a9dfb4577f1ac49ca58c; ps=y; push_noty_num=0; push_doumail_num=0; __utmv=30149280.18727; __utmc=30149280; gr_user_id=f19fd5f6-ecf0-49d8-a885-034037293bb9; as=\"https://sec.douban.com/b?r=https%3A%2F%2Fmovie.douban.com%2Fcelebrity%2F1312700%2F\"; dbcl2=\"187278528:y9OXvoexX0g\"; ck=xb-g; __yadk_uid=qVMgftxxu2SWyXjlxh6A6NYoDRYwQNnd; ap_v=0,6.0; _pk_ref.100001.8cb4=%5B%22%22%2C%22%22%2C1542950923%2C%22https%3A%2F%2Fwww.baidu.com%2Flink%3Furl%3DVbj4lDLMZY4h9YwHoS4hPewratj0oD9JyXqsH-7oEmGNMOh90p3FMxx4p2--pOfb%26wd%3D%26eqid%3D9b06374a0000964e000000065bf78ff5%22%5D; _pk_ses.100001.8cb4=*; __utma=30149280.659914314.1541418835.1542948737.1542950925.24; __utmz=30149280.1542950925.24.5.utmcsr=baidu|utmccn=(organic)|utmcmd=organic; __utmt=1; douban-profile-remind=1; _pk_id.100001.8cb4=9aa7e0a808761a64.1541418995.6.1542951038.1542948737.; __utmb=30149280.6.10.1542950925', \n",
    "    'Host': 'www.douban.com', \n",
    "    'Referer': 'https://www.douban.com/people/187278528/', \n",
    "    'Upgrade-Insecure-Requests': '1', \n",
    "    'User-Agent': random.choice(User_Agents)\n",
    "}"
   ]
  },
  {
   "cell_type": "code",
   "execution_count": 15,
   "metadata": {},
   "outputs": [],
   "source": [
    "# driver = webdriver.Chrome()\n",
    "# driver.get(url)\n",
    "# driver.maximize_window()"
   ]
  },
  {
   "cell_type": "code",
   "execution_count": 16,
   "metadata": {},
   "outputs": [],
   "source": [
    "def one_click():\n",
    "    driver.find_element_by_class_name('more').click()\n",
    "    time.sleep(1.5)\n",
    "while True:\n",
    "    try:\n",
    "        one_click()\n",
    "    except:\n",
    "        break"
   ]
  },
  {
   "cell_type": "code",
   "execution_count": 17,
   "metadata": {},
   "outputs": [],
   "source": [
    "# driver.find_element_by_class_name('th-list').click()"
   ]
  },
  {
   "cell_type": "code",
   "execution_count": 18,
   "metadata": {},
   "outputs": [],
   "source": [
    "# urls = [k.get_attribute('href') for k in driver.find_elements_by_class_name('title')]"
   ]
  },
  {
   "cell_type": "code",
   "execution_count": 28,
   "metadata": {},
   "outputs": [],
   "source": [
    "# import csv\n",
    "# urls = []\n",
    "# with open('tw_urls.csv', 'r') as f:\n",
    "#     f_csv = csv.reader(f)\n",
    "#     for row in f_csv:\n",
    "#         urls.append(row[0])"
   ]
  },
  {
   "cell_type": "code",
   "execution_count": 20,
   "metadata": {},
   "outputs": [],
   "source": [
    "# def scrape_one_url(url):\n",
    "#     r = requests.get(url, proxies = {'http': random.choice(ips)}, headers = {\n",
    "#         'Cookie': 'll=\"108090\"; bid=RCQuJh5W6uA; __yadk_uid=YREeWmsJNx3PozsmylB3n6C1jOCJMZUa; _vwo_uuid_v2=DE0655BABE1957865C0B256950AD3853D|0a7c48214e00a9dfb4577f1ac49ca58c; ps=y; push_noty_num=0; push_doumail_num=0; __utmv=30149280.18727; __utmc=30149280; __utmc=223695111; gr_user_id=f19fd5f6-ecf0-49d8-a885-034037293bb9; __utmz=223695111.1542948758.22.5.utmcsr=douban.com|utmccn=(referral)|utmcmd=referral|utmcct=/misc/sorry; douban-profile-remind=1; __utmz=30149280.1542954543.25.6.utmcsr=movie.douban.com|utmccn=(referral)|utmcmd=referral|utmcct=/; as=\"https://sec.douban.com/b?r=https%3A%2F%2Fmovie.douban.com%2Ftag%2F\"; __utma=30149280.659914314.1541418835.1542958726.1542968063.27; __utmt=1; dbcl2=\"187278528:mCaNy5lidhs\"; ck=RjQZ; __utmb=30149280.5.10.1542968063; _pk_ref.100001.4cf6=%5B%22%22%2C%22%22%2C1542968286%2C%22https%3A%2F%2Fwww.douban.com%2Fmisc%2Fsorry%3Foriginal-url%3Dhttps%253A%252F%252Fmovie.douban.com%252Ftag%252F%22%5D; _pk_ses.100001.4cf6=*; __utma=223695111.2103149885.1541418835.1542951954.1542968286.24; __utmb=223695111.0.10.1542968286; _pk_id.100001.4cf6=b575a0cf42521dde.1541418835.24.1542968344.1542951967.', \n",
    "#         'Referer': 'https://movie.douban.com/subject/2210001/', \n",
    "#         'User-Agent': 'Mozilla/5.0 (Macintosh; Intel Mac OS X 10_13_6) AppleWebKit/537.36 (KHTML, like Gecko) Chrome/70.0.3538.102 Safari/537.36'\n",
    "#     })\n",
    "#     data = BeautifulSoup(r.text, 'html.parser')\n",
    "#     my1 = data.find('h1').text.strip()\n",
    "#     my2 = data.find(id = 'info').text.strip()\n",
    "#     my3 = data.find(typeof = 'v:Rating').text.strip()\n",
    "#     return my1, my2, my3\n",
    "# datasets = []\n",
    "# error_urls = []\n",
    "# for url in urls:\n",
    "#     try:\n",
    "#         datasets.append(scrape_one_url(url))\n",
    "#     except:\n",
    "#         error_urls.append(url)"
   ]
  },
  {
   "cell_type": "code",
   "execution_count": 21,
   "metadata": {},
   "outputs": [],
   "source": [
    "titles = []\n",
    "years = []\n",
    "for dataset in datasets:\n",
    "    titles.append(dataset[0].split()[0])\n",
    "    years.append(dataset[0].split()[-1].strip('()'))\n",
    "df = pd.DataFrame({'剧名': titles, '年份': years})"
   ]
  },
  {
   "cell_type": "code",
   "execution_count": 22,
   "metadata": {},
   "outputs": [],
   "source": [
    "headers = ['导演', '编剧', '主演', '类型', '制片国家/地区', '集数', '单集片长']\n",
    "def add_one_df(string):\n",
    "    things = []\n",
    "    for dataset in datasets:\n",
    "        thing = None\n",
    "        for i in dataset[1].split('\\n'):\n",
    "            if i.find(string) != -1:\n",
    "                thing = i.strip(string).strip(': ').strip('分钟')\n",
    "                break\n",
    "        things.append(thing)\n",
    "    return things\n",
    "for header in headers:\n",
    "    df[header] = add_one_df(header)"
   ]
  },
  {
   "cell_type": "code",
   "execution_count": 23,
   "metadata": {},
   "outputs": [],
   "source": [
    "scores = []\n",
    "numbers = []\n",
    "for dataset in datasets:\n",
    "    scores.append(dataset[2].split('\\n')[0])\n",
    "    numbers.append(dataset[2].split('\\n')[-1].strip('人评价'))\n",
    "df['豆瓣评分'] = scores\n",
    "df['评价人数'] = numbers"
   ]
  },
  {
   "cell_type": "code",
   "execution_count": 24,
   "metadata": {},
   "outputs": [],
   "source": [
    "df.columns = ['剧名', '年份', '导演', '编剧', '主演', '类型', '制片国家/地区', '集数', '单集片长/分钟', '豆瓣评分', '评价人数/人']"
   ]
  },
  {
   "cell_type": "code",
   "execution_count": 25,
   "metadata": {},
   "outputs": [],
   "source": [
    "final = df.sort_values(by = '豆瓣评分', ascending = False)"
   ]
  },
  {
   "cell_type": "code",
   "execution_count": 26,
   "metadata": {},
   "outputs": [],
   "source": [
    "# final.to_csv('results_tw.csv', index = False, encoding = 'utf-8-sig')"
   ]
  },
  {
   "cell_type": "code",
   "execution_count": null,
   "metadata": {},
   "outputs": [],
   "source": []
  }
 ],
 "metadata": {
  "kernelspec": {
   "display_name": "Python 3",
   "language": "python",
   "name": "python3"
  },
  "language_info": {
   "codemirror_mode": {
    "name": "ipython",
    "version": 3
   },
   "file_extension": ".py",
   "mimetype": "text/x-python",
   "name": "python",
   "nbconvert_exporter": "python",
   "pygments_lexer": "ipython3",
   "version": "3.7.0"
  }
 },
 "nbformat": 4,
 "nbformat_minor": 2
}
